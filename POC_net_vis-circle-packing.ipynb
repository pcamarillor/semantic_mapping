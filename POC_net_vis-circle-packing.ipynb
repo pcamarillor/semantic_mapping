{
 "cells": [
  {
   "cell_type": "markdown",
   "id": "076df02e",
   "metadata": {},
   "source": [
    "# POC of Network visualization"
   ]
  },
  {
   "cell_type": "code",
   "execution_count": 1,
   "id": "bba0c99e",
   "metadata": {},
   "outputs": [
    {
     "data": {
      "text/plain": [
       "array([[1.        , 0.80687351, 0.28834204, 0.28834204, 0.59713033,\n",
       "        0.53356025],\n",
       "       [0.80687351, 1.        , 0.28834204, 0.28834204, 0.50566167,\n",
       "        0.59224592],\n",
       "       [0.28834204, 0.28834204, 1.        , 0.31670559, 0.42810435,\n",
       "        0.32441524],\n",
       "       [0.28834204, 0.28834204, 0.31670559, 1.        , 0.33517101,\n",
       "        0.32441524],\n",
       "       [0.59713033, 0.50566167, 0.42810435, 0.33517101, 1.        ,\n",
       "        0.53593382],\n",
       "       [0.53356025, 0.59224592, 0.32441524, 0.32441524, 0.53593382,\n",
       "        1.        ]])"
      ]
     },
     "metadata": {},
     "output_type": "display_data"
    },
    {
     "data": {
      "text/plain": [
       "['Cersei_Lannister',\n",
       " 'Jaime_Lannister',\n",
       " 'Petyr_Baelish',\n",
       " 'Tywin_Lannister',\n",
       " 'Joffrey_Baratheon',\n",
       " 'Brienne_of_Tarth']"
      ]
     },
     "metadata": {},
     "output_type": "display_data"
    }
   ],
   "source": [
    "import os\n",
    "import sys\n",
    "sys.path.insert(0, os.path.abspath('../semantic_mapping'))\n",
    "import pandas as pd\n",
    "import numpy as np\n",
    "import networkx as nx\n",
    "import matplotlib.pyplot as plt\n",
    "import circlify\n",
    "import semantic_similarity\n",
    "\n",
    "from sklearn.cluster import AffinityPropagation\n",
    "\n",
    "\n",
    "\n",
    "# Computing similarity matrix\n",
    "dataset_name = 'fictional_chars'\n",
    "#semantic_similarity.build_similarity_matrix(dataset_name)\n",
    "\n",
    "# Load similarity matrix\n",
    "\n",
    "sim_matrix = np.loadtxt(\"similarity_matrices/{0}.txt\".format(dataset_name))\n",
    "lst_names = semantic_similarity.load_names(dataset_name)\n",
    "\n",
    "display(sim_matrix)\n",
    "display(lst_names)\n"
   ]
  },
  {
   "cell_type": "code",
   "execution_count": 2,
   "id": "d6fe4e72",
   "metadata": {},
   "outputs": [
    {
     "data": {
      "text/plain": [
       "array([0, 0, 1, 2, 0, 0])"
      ]
     },
     "metadata": {},
     "output_type": "display_data"
    },
    {
     "data": {
      "text/plain": [
       "array([0, 2, 3])"
      ]
     },
     "metadata": {},
     "output_type": "display_data"
    }
   ],
   "source": [
    "# Compute clusters using Affinity Propagation algorithm\n",
    "clustering = AffinityPropagation(random_state=10, max_iter=800).fit(sim_matrix)\n",
    "display(clustering.labels_)\n",
    "display(clustering.cluster_centers_indices_)"
   ]
  },
  {
   "cell_type": "code",
   "execution_count": 3,
   "id": "3c63cade",
   "metadata": {},
   "outputs": [],
   "source": [
    "# Create semantic maps using the exemplars as centers\n",
    "exemplars_dict = {}\n",
    "av_size = 0\n",
    "for i in range(0, len(clustering.labels_)):\n",
    "    if clustering.labels_[i] not in exemplars_dict.keys():\n",
    "        exemplars_dict[clustering.labels_[i]] = []\n",
    "    exemplars_dict[clustering.labels_[i]].append(i)\n",
    "    \n",
    "# Create circles_dict for cicrle packing\n",
    "circle_lst = []\n",
    "\n",
    "for k,v in exemplars_dict.items():\n",
    "    exemplar_indx = semantic_similarity.find_exemplar(clustering.cluster_centers_indices_, v)\n",
    "    children_list = []\n",
    "    av_size += len(v)\n",
    "    for item in v:\n",
    "        children_list.append({'id': ' ', 'datum': 1})\n",
    "    circle_item = dict()\n",
    "    circle_item['id'] = lst_names[exemplar_indx]\n",
    "    circle_item['datum'] = len(v)\n",
    "    circle_item['children'] = children_list\n",
    "    circle_lst.append(circle_item)\n",
    "\n",
    "av_size = av_size / len(circle_lst)"
   ]
  },
  {
   "cell_type": "code",
   "execution_count": 4,
   "id": "f32f4b67",
   "metadata": {},
   "outputs": [
    {
     "data": {
      "image/png": "[encoded data removed]",
      "text/plain": [
       "<Figure size 720x720 with 1 Axes>"
      ]
     },
     "metadata": {
      "needs_background": "light"
     },
     "output_type": "display_data"
    }
   ],
   "source": [
    "# compute circle positions:\n",
    "circles = circlify.circlify(\n",
    "    circle_lst, \n",
    "    show_enclosure=False, \n",
    "    target_enclosure=circlify.Circle(x=0, y=0, r=1)\n",
    ")\n",
    "import matplotlib.pyplot as plt\n",
    "\n",
    "# Create just a figure and only one subplot\n",
    "fig, ax = plt.subplots(figsize=(10,10))\n",
    "\n",
    "# Remove axes\n",
    "ax.axis('off')\n",
    "\n",
    "# Find axis boundaries\n",
    "lim = max(\n",
    "    max(\n",
    "        abs(circle.x) + circle.r,\n",
    "        abs(circle.y) + circle.r,\n",
    "    )\n",
    "    for circle in circles\n",
    ")\n",
    "plt.xlim(-lim, lim)\n",
    "plt.ylim(-lim, lim)\n",
    "\n",
    "\n",
    "# print circles\n",
    "for circle in circles:\n",
    "    if not circle:\n",
    "        continue\n",
    "    x, y, r = circle\n",
    "    label = circle.ex[\"id\"]\n",
    "    ax.add_patch(plt.Circle((x, y), r, alpha=0.2, linewidth=2))\n",
    "    plt.annotate(\n",
    "          label, \n",
    "          (x,y ) ,\n",
    "          va='center',\n",
    "          ha='center'\n",
    "     )"
   ]
  },
  {
   "cell_type": "code",
   "execution_count": null,
   "id": "f0a927d3",
   "metadata": {},
   "outputs": [],
   "source": []
  }
 ],
 "metadata": {
  "kernelspec": {
   "display_name": "Python 3 (ipykernel)",
   "language": "python",
   "name": "python3"
  },
  "language_info": {
   "codemirror_mode": {
    "name": "ipython",
    "version": 3
   },
   "file_extension": ".py",
   "mimetype": "text/x-python",
   "name": "python",
   "nbconvert_exporter": "python",
   "pygments_lexer": "ipython3",
   "version": "3.9.7"
  }
 },
 "nbformat": 4,
 "nbformat_minor": 5
}
