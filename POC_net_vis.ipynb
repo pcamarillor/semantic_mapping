{
 "cells": [
  {
   "cell_type": "markdown",
   "id": "076df02e",
   "metadata": {},
   "source": [
    "# POC of Network visualization"
   ]
  },
  {
   "cell_type": "code",
   "execution_count": 42,
   "id": "bba0c99e",
   "metadata": {},
   "outputs": [
    {
     "data": {
      "text/plain": [
       "array([[1.        , 0.20658502, 0.45457231, 0.20330699, 0.32833648,\n",
       "        0.22585213, 0.40082475, 0.22660715, 0.07593365, 0.23240819,\n",
       "        0.21547751, 0.22332912, 0.45056649, 0.20910803, 0.17421916,\n",
       "        0.57318112, 0.22913016],\n",
       "       [0.20658502, 1.        , 0.50222651, 0.71403842, 0.26746095,\n",
       "        0.44261771, 0.26050633, 0.2985747 , 0.08877456, 0.30628435,\n",
       "        0.28461973, 0.7806553 , 0.62602864, 0.41593558, 0.21571276,\n",
       "        0.29739824, 0.44704933],\n",
       "       [0.45457231, 0.50222651, 1.        , 0.49590235, 0.35356859,\n",
       "        0.53693028, 0.34043674, 0.34920482, 0.09552059, 0.3599606 ,\n",
       "        0.50075187, 0.34288066, 0.72322875, 0.50665812, 0.24056213,\n",
       "        0.74266076, 0.54325444],\n",
       "       [0.20330699, 0.71403842, 0.49590235, 1.        , 0.40379432,\n",
       "        0.43629355, 0.25607472, 0.29225054, 0.08786547, 0.48790086,\n",
       "        0.27829557, 0.58592176, 0.4312951 , 0.55226895, 0.21243473,\n",
       "        0.29107408, 0.57516599],\n",
       "       [0.32833648, 0.26746095, 0.35356859, 0.40379432, 1.        ,\n",
       "        0.30374528, 0.29291316, 0.30489886, 0.08968365, 0.63499   ,\n",
       "        0.29094389, 0.30046724, 0.31112612, 0.55226895, 0.2189908 ,\n",
       "        0.36022244, 0.57705853],\n",
       "       [0.22585213, 0.44261771, 0.53693028, 0.43629355, 0.30374528,\n",
       "        1.        , 0.5737805 , 0.40388387, 0.0946115 , 0.40208394,\n",
       "        0.32484506, 0.3365565 , 0.4758427 , 0.44704933, 0.26567353,\n",
       "        0.34320879, 0.79326258],\n",
       "       [0.40082475, 0.26050633, 0.34043674, 0.25607472, 0.29291316,\n",
       "        0.5737805 , 1.        , 0.29529667, 0.08813353, 0.30300631,\n",
       "        0.38851109, 0.39437082, 0.35652028, 0.46738127, 0.36661711,\n",
       "        0.37099114, 0.49959136],\n",
       "       [0.22660715, 0.2985747 , 0.34920482, 0.29225054, 0.30489886,\n",
       "        0.40388387, 0.29529667, 1.        , 0.09476301, 0.46334257,\n",
       "        0.49226717, 0.33844905, 0.33697027, 0.30300631, 0.30389761,\n",
       "        0.34510133, 0.34920482],\n",
       "       [0.07593365, 0.08877456, 0.09552059, 0.08786547, 0.08968365,\n",
       "        0.0946115 , 0.08813353, 0.09476301, 1.        , 0.09642968,\n",
       "        0.0911483 , 0.09385392, 0.09309635, 0.08953213, 0.07849317,\n",
       "        0.09379079, 0.09552059],\n",
       "       [0.23240819, 0.30628435, 0.3599606 , 0.48790086, 0.63499   ,\n",
       "        0.40208394, 0.30300631, 0.46334257, 0.09642968, 1.        ,\n",
       "        0.33749339, 0.34920482, 0.34772604, 0.63309745, 0.295521  ,\n",
       "        0.35585711, 0.65993558],\n",
       "       [0.21547751, 0.28461973, 0.50075187, 0.27829557, 0.29094389,\n",
       "        0.32484506, 0.38851109, 0.49226717, 0.0911483 , 0.33749339,\n",
       "        1.        , 0.42395383, 0.44705133, 0.4250783 , 0.33705459,\n",
       "        0.49664838, 0.33116923],\n",
       "       [0.22332912, 0.7806553 , 0.34288066, 0.58592176, 0.30046724,\n",
       "        0.3365565 , 0.39437082, 0.33844905, 0.09385392, 0.34920482,\n",
       "        0.42395383, 1.        , 0.56736305, 0.49330837, 0.34154489,\n",
       "        0.33877717, 0.34288066],\n",
       "       [0.45056649, 0.62602864, 0.72322875, 0.4312951 , 0.31112612,\n",
       "        0.4758427 , 0.35652028, 0.33697027, 0.09309635, 0.34772604,\n",
       "        0.44705133, 0.56736305, 1.        , 0.44205088, 0.23306151,\n",
       "        0.60100295, 0.48216686],\n",
       "       [0.20910803, 0.41593558, 0.50665812, 0.55226895, 0.55226895,\n",
       "        0.44704933, 0.46738127, 0.30300631, 0.08953213, 0.63309745,\n",
       "        0.4250783 , 0.49330837, 0.44205088, 1.        , 0.42838874,\n",
       "        0.30182986, 0.72036258],\n",
       "       [0.17421916, 0.21571276, 0.24056213, 0.21243473, 0.2189908 ,\n",
       "        0.26567353, 0.36661711, 0.30389761, 0.07849317, 0.295521  ,\n",
       "        0.33705459, 0.34154489, 0.23306151, 0.42838874, 1.        ,\n",
       "        0.2363572 , 0.24056213],\n",
       "       [0.57318112, 0.29739824, 0.74266076, 0.29107408, 0.36022244,\n",
       "        0.34320879, 0.37099114, 0.34510133, 0.09379079, 0.35585711,\n",
       "        0.49664838, 0.33877717, 0.60100295, 0.30182986, 0.2363572 ,\n",
       "        1.        , 0.34953295],\n",
       "       [0.22913016, 0.44704933, 0.54325444, 0.57516599, 0.57705853,\n",
       "        0.79326258, 0.49959136, 0.34920482, 0.09552059, 0.65993558,\n",
       "        0.33116923, 0.34288066, 0.48216686, 0.72036258, 0.24056213,\n",
       "        0.34953295, 1.        ]])"
      ]
     },
     "metadata": {},
     "output_type": "display_data"
    },
    {
     "data": {
      "text/plain": [
       "['John_Sheppard_(Stargate)',\n",
       " 'Boba_Fett',\n",
       " 'Wedge_Antilles',\n",
       " 'Asajj_Ventress',\n",
       " 'RoboCop_(character)',\n",
       " 'Princess_Leia',\n",
       " 'Jacen_Solo',\n",
       " 'Kreia',\n",
       " 'Dan_Dare',\n",
       " 'General_Grievous',\n",
       " 'Chewbacca',\n",
       " 'Jango_Fett',\n",
       " 'Han_Solo',\n",
       " 'Darth_Vader',\n",
       " 'Palpatine',\n",
       " 'Lando_Calrissian',\n",
       " 'Luke_Skywalker']"
      ]
     },
     "metadata": {},
     "output_type": "display_data"
    }
   ],
   "source": [
    "import os\n",
    "import sys\n",
    "sys.path.insert(0, os.path.abspath('../semantic_mapping'))\n",
    "import pandas as pd\n",
    "import numpy as np\n",
    "import networkx as nx\n",
    "import matplotlib.pyplot as plt\n",
    "import circlify\n",
    "import semantic_similarity\n",
    "\n",
    "from sklearn.cluster import AffinityPropagation\n",
    "\n",
    "\n",
    "\n",
    "# Computing similarity matrix\n",
    "dataset_name = 'star_wars'\n",
    "#semantic_similarity.build_similarity_matrix(dataset_name)\n",
    "\n",
    "# Load similarity matrix\n",
    "\n",
    "sim_matrix = np.loadtxt(\"similarity_matrices/{0}.txt\".format(dataset_name))\n",
    "lst_names = semantic_similarity.load_names(dataset_name)\n",
    "\n",
    "display(sim_matrix)\n",
    "display(lst_names)\n"
   ]
  },
  {
   "cell_type": "code",
   "execution_count": 43,
   "id": "d6fe4e72",
   "metadata": {},
   "outputs": [
    {
     "data": {
      "text/plain": [
       "array([3, 0, 3, 0, 4, 4, 2, 2, 1, 4, 2, 0, 3, 4, 2, 3, 4])"
      ]
     },
     "metadata": {},
     "output_type": "display_data"
    },
    {
     "data": {
      "text/plain": [
       "array([ 1,  8, 10, 15, 16])"
      ]
     },
     "metadata": {},
     "output_type": "display_data"
    }
   ],
   "source": [
    "# Compute clusters using Affinity Propagation algorithm\n",
    "clustering = AffinityPropagation(random_state=10, max_iter=800).fit(sim_matrix)\n",
    "display(clustering.labels_)\n",
    "display(clustering.cluster_centers_indices_)"
   ]
  },
  {
   "cell_type": "code",
   "execution_count": 44,
   "id": "3c63cade",
   "metadata": {},
   "outputs": [
    {
     "data": {
      "text/html": [
       "<div>\n",
       "<style scoped>\n",
       "    .dataframe tbody tr th:only-of-type {\n",
       "        vertical-align: middle;\n",
       "    }\n",
       "\n",
       "    .dataframe tbody tr th {\n",
       "        vertical-align: top;\n",
       "    }\n",
       "\n",
       "    .dataframe thead th {\n",
       "        text-align: right;\n",
       "    }\n",
       "</style>\n",
       "<table border=\"1\" class=\"dataframe\">\n",
       "  <thead>\n",
       "    <tr style=\"text-align: right;\">\n",
       "      <th></th>\n",
       "      <th>source</th>\n",
       "      <th>target</th>\n",
       "    </tr>\n",
       "  </thead>\n",
       "  <tbody>\n",
       "    <tr>\n",
       "      <th>0</th>\n",
       "      <td>Lando_Calrissian</td>\n",
       "      <td>John_Sheppard_(Stargate)</td>\n",
       "    </tr>\n",
       "    <tr>\n",
       "      <th>1</th>\n",
       "      <td>Lando_Calrissian</td>\n",
       "      <td>Wedge_Antilles</td>\n",
       "    </tr>\n",
       "    <tr>\n",
       "      <th>2</th>\n",
       "      <td>Lando_Calrissian</td>\n",
       "      <td>Han_Solo</td>\n",
       "    </tr>\n",
       "    <tr>\n",
       "      <th>3</th>\n",
       "      <td>Boba_Fett</td>\n",
       "      <td>Asajj_Ventress</td>\n",
       "    </tr>\n",
       "    <tr>\n",
       "      <th>4</th>\n",
       "      <td>Boba_Fett</td>\n",
       "      <td>Jango_Fett</td>\n",
       "    </tr>\n",
       "    <tr>\n",
       "      <th>5</th>\n",
       "      <td>Luke_Skywalker</td>\n",
       "      <td>RoboCop_(character)</td>\n",
       "    </tr>\n",
       "    <tr>\n",
       "      <th>6</th>\n",
       "      <td>Luke_Skywalker</td>\n",
       "      <td>Princess_Leia</td>\n",
       "    </tr>\n",
       "    <tr>\n",
       "      <th>7</th>\n",
       "      <td>Luke_Skywalker</td>\n",
       "      <td>General_Grievous</td>\n",
       "    </tr>\n",
       "    <tr>\n",
       "      <th>8</th>\n",
       "      <td>Luke_Skywalker</td>\n",
       "      <td>Darth_Vader</td>\n",
       "    </tr>\n",
       "    <tr>\n",
       "      <th>9</th>\n",
       "      <td>Chewbacca</td>\n",
       "      <td>Jacen_Solo</td>\n",
       "    </tr>\n",
       "    <tr>\n",
       "      <th>10</th>\n",
       "      <td>Chewbacca</td>\n",
       "      <td>Kreia</td>\n",
       "    </tr>\n",
       "    <tr>\n",
       "      <th>11</th>\n",
       "      <td>Chewbacca</td>\n",
       "      <td>Palpatine</td>\n",
       "    </tr>\n",
       "    <tr>\n",
       "      <th>12</th>\n",
       "      <td>Dan_Dare</td>\n",
       "      <td>Dan_Dare</td>\n",
       "    </tr>\n",
       "  </tbody>\n",
       "</table>\n",
       "</div>"
      ],
      "text/plain": [
       "              source                    target\n",
       "0   Lando_Calrissian  John_Sheppard_(Stargate)\n",
       "1   Lando_Calrissian            Wedge_Antilles\n",
       "2   Lando_Calrissian                  Han_Solo\n",
       "3          Boba_Fett            Asajj_Ventress\n",
       "4          Boba_Fett                Jango_Fett\n",
       "5     Luke_Skywalker       RoboCop_(character)\n",
       "6     Luke_Skywalker             Princess_Leia\n",
       "7     Luke_Skywalker          General_Grievous\n",
       "8     Luke_Skywalker               Darth_Vader\n",
       "9          Chewbacca                Jacen_Solo\n",
       "10         Chewbacca                     Kreia\n",
       "11         Chewbacca                 Palpatine\n",
       "12          Dan_Dare                  Dan_Dare"
      ]
     },
     "metadata": {},
     "output_type": "display_data"
    }
   ],
   "source": [
    "# Create semantic maps using the exemplars as centers\n",
    "exemplars_label_dict = {}\n",
    "for i in range(0, len(clustering.labels_)):\n",
    "    if clustering.labels_[i] not in exemplars_label_dict.keys():\n",
    "        exemplars_label_dict[clustering.labels_[i]] = []\n",
    "    exemplars_label_dict[clustering.labels_[i]].append(i)\n",
    "\n",
    "# Replace the key in the dict to use the exmplar index as key instead of cluster label\n",
    "exemplars_dict = {}\n",
    "for k, v in exemplars_label_dict.items():\n",
    "    filtered = filter(lambda center: center in clustering.cluster_centers_indices_, v)\n",
    "    exemplars_dict[list(filtered)[0]] = v\n",
    "del exemplars_label_dict\n",
    "\n",
    "\n",
    "# Create list of edges\n",
    "lst_sources = []\n",
    "lst_targets = []\n",
    "for k, v in exemplars_dict.items():\n",
    "    for idx in v:\n",
    "        if idx != k or len(v) == 1:\n",
    "            lst_sources.append(lst_names[k])\n",
    "            lst_targets.append(lst_names[idx])\n",
    "\n",
    "# Create DataFrame\n",
    "df = pd.DataFrame(list(zip(lst_sources, lst_targets)), columns=['source', 'target'])\n",
    "display(df)\n"
   ]
  },
  {
   "cell_type": "code",
   "execution_count": 45,
   "id": "6ad3ade0",
   "metadata": {},
   "outputs": [
    {
     "data": {
      "image/png": "[encoded data removed]",
      "text/plain": [
       "<Figure size 432x288 with 1 Axes>"
      ]
     },
     "metadata": {},
     "output_type": "display_data"
    }
   ],
   "source": [
    "# Draw static network\n",
    "G = nx.from_pandas_edgelist(df,\n",
    "                           source='source',\n",
    "                           target='target')\n",
    "nx.draw_kamada_kawai(G,\n",
    "                    with_labels=True,\n",
    "                    node_size=1600,\n",
    "                     edge_color='black',\n",
    "                     linewidths=1,\n",
    "                     font_size=15)"
   ]
  },
  {
   "cell_type": "code",
   "execution_count": 46,
   "id": "682c7483",
   "metadata": {},
   "outputs": [
    {
     "data": {
      "text/html": [
       "\n",
       "        <iframe\n",
       "            width=\"500px\"\n",
       "            height=\"500px\"\n",
       "            src=\"demo.html\"\n",
       "            frameborder=\"0\"\n",
       "            allowfullscreen\n",
       "            \n",
       "        ></iframe>\n",
       "        "
      ],
      "text/plain": [
       "<IPython.lib.display.IFrame at 0x7fc6d0074d60>"
      ]
     },
     "execution_count": 46,
     "metadata": {},
     "output_type": "execute_result"
    }
   ],
   "source": [
    "from pyvis.network import Network\n",
    "net = Network(notebook=True)\n",
    "net.from_nx(G)\n",
    "net.show('demo.html')"
   ]
  },
  {
   "cell_type": "code",
   "execution_count": null,
   "id": "3c18d86f",
   "metadata": {},
   "outputs": [],
   "source": []
  }
 ],
 "metadata": {
  "kernelspec": {
   "display_name": "Python 3 (ipykernel)",
   "language": "python",
   "name": "python3"
  },
  "language_info": {
   "codemirror_mode": {
    "name": "ipython",
    "version": 3
   },
   "file_extension": ".py",
   "mimetype": "text/x-python",
   "name": "python",
   "nbconvert_exporter": "python",
   "pygments_lexer": "ipython3",
   "version": "3.9.7"
  }
 },
 "nbformat": 4,
 "nbformat_minor": 5
}
